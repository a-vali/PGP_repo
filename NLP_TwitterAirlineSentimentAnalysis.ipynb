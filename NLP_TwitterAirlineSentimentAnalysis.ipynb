{
 "cells": [
  {
   "cell_type": "markdown",
   "metadata": {},
   "source": [
    "# Project Description: Twitter US Airline Sentiment\n",
    "## Data Description:\n",
    "A sentiment analysis job about the problems of each major U.S. airline. Twitter data was scraped from February of 2015 and contributors were asked to first classify positive, negative, and neutral tweets, followed by categorizing negative reasons (such as \"late flight\" or \"rude service\").\n",
    "\n",
    "### Dataset:\n",
    "The project is from a dataset from Kaggle.Link to the Kaggle project site:https://www.kaggle.com/crowdflower/twitter-airline-sentimentThe . <br>\n",
    "The dataset has the following columns: tweet_id, airline_sentiment, airline_sentiment_confidence, negativereason, negativereason_confidence, airline, airline_sentiment_gold, name, negativereason_gold, retweet_count, text, tweet_coord, tweet_created, tweet_location, user_timezone\n",
    "\n",
    "## Objective:\n",
    "To implement NLP on review text and classify it to positive, neutral, and negative tweets"
   ]
  },
  {
   "cell_type": "code",
   "execution_count": 1,
   "metadata": {},
   "outputs": [],
   "source": [
    "import pandas as pd\n",
    "import numpy as np\n",
    "from matplotlib import pyplot as plt\n",
    "import seaborn as sns\n",
    "sns.set()"
   ]
  },
  {
   "cell_type": "code",
   "execution_count": 2,
   "metadata": {},
   "outputs": [],
   "source": [
    "import re\n",
    "from bs4 import BeautifulSoup\n",
    "\n",
    "from nltk.corpus import stopwords\n",
    "from nltk.tokenize import word_tokenize, sent_tokenize\n",
    "from nltk.stem.wordnet import WordNetLemmatizer"
   ]
  },
  {
   "cell_type": "code",
   "execution_count": 3,
   "metadata": {},
   "outputs": [],
   "source": [
    "data = pd.read_csv(\"Tweets.csv\")"
   ]
  },
  {
   "cell_type": "code",
   "execution_count": 4,
   "metadata": {},
   "outputs": [
    {
     "data": {
      "text/plain": [
       "(14640, 15)"
      ]
     },
     "execution_count": 4,
     "metadata": {},
     "output_type": "execute_result"
    }
   ],
   "source": [
    "data.shape"
   ]
  },
  {
   "cell_type": "code",
   "execution_count": 5,
   "metadata": {},
   "outputs": [
    {
     "data": {
      "text/plain": [
       "Index(['tweet_id', 'airline_sentiment', 'airline_sentiment_confidence',\n",
       "       'negativereason', 'negativereason_confidence', 'airline',\n",
       "       'airline_sentiment_gold', 'name', 'negativereason_gold',\n",
       "       'retweet_count', 'text', 'tweet_coord', 'tweet_created',\n",
       "       'tweet_location', 'user_timezone'],\n",
       "      dtype='object')"
      ]
     },
     "execution_count": 5,
     "metadata": {},
     "output_type": "execute_result"
    }
   ],
   "source": [
    "data.columns"
   ]
  },
  {
   "cell_type": "code",
   "execution_count": 6,
   "metadata": {},
   "outputs": [
    {
     "data": {
      "text/html": [
       "<div>\n",
       "<style scoped>\n",
       "    .dataframe tbody tr th:only-of-type {\n",
       "        vertical-align: middle;\n",
       "    }\n",
       "\n",
       "    .dataframe tbody tr th {\n",
       "        vertical-align: top;\n",
       "    }\n",
       "\n",
       "    .dataframe thead th {\n",
       "        text-align: right;\n",
       "    }\n",
       "</style>\n",
       "<table border=\"1\" class=\"dataframe\">\n",
       "  <thead>\n",
       "    <tr style=\"text-align: right;\">\n",
       "      <th></th>\n",
       "      <th>tweet_id</th>\n",
       "      <th>airline_sentiment</th>\n",
       "      <th>airline_sentiment_confidence</th>\n",
       "      <th>negativereason</th>\n",
       "      <th>negativereason_confidence</th>\n",
       "      <th>airline</th>\n",
       "      <th>airline_sentiment_gold</th>\n",
       "      <th>name</th>\n",
       "      <th>negativereason_gold</th>\n",
       "      <th>retweet_count</th>\n",
       "      <th>text</th>\n",
       "      <th>tweet_coord</th>\n",
       "      <th>tweet_created</th>\n",
       "      <th>tweet_location</th>\n",
       "      <th>user_timezone</th>\n",
       "    </tr>\n",
       "  </thead>\n",
       "  <tbody>\n",
       "    <tr>\n",
       "      <th>0</th>\n",
       "      <td>570306133677760513</td>\n",
       "      <td>neutral</td>\n",
       "      <td>1.0000</td>\n",
       "      <td>NaN</td>\n",
       "      <td>NaN</td>\n",
       "      <td>Virgin America</td>\n",
       "      <td>NaN</td>\n",
       "      <td>cairdin</td>\n",
       "      <td>NaN</td>\n",
       "      <td>0</td>\n",
       "      <td>@VirginAmerica What @dhepburn said.</td>\n",
       "      <td>NaN</td>\n",
       "      <td>2015-02-24 11:35:52 -0800</td>\n",
       "      <td>NaN</td>\n",
       "      <td>Eastern Time (US &amp; Canada)</td>\n",
       "    </tr>\n",
       "    <tr>\n",
       "      <th>1</th>\n",
       "      <td>570301130888122368</td>\n",
       "      <td>positive</td>\n",
       "      <td>0.3486</td>\n",
       "      <td>NaN</td>\n",
       "      <td>0.0000</td>\n",
       "      <td>Virgin America</td>\n",
       "      <td>NaN</td>\n",
       "      <td>jnardino</td>\n",
       "      <td>NaN</td>\n",
       "      <td>0</td>\n",
       "      <td>@VirginAmerica plus you've added commercials t...</td>\n",
       "      <td>NaN</td>\n",
       "      <td>2015-02-24 11:15:59 -0800</td>\n",
       "      <td>NaN</td>\n",
       "      <td>Pacific Time (US &amp; Canada)</td>\n",
       "    </tr>\n",
       "    <tr>\n",
       "      <th>2</th>\n",
       "      <td>570301083672813571</td>\n",
       "      <td>neutral</td>\n",
       "      <td>0.6837</td>\n",
       "      <td>NaN</td>\n",
       "      <td>NaN</td>\n",
       "      <td>Virgin America</td>\n",
       "      <td>NaN</td>\n",
       "      <td>yvonnalynn</td>\n",
       "      <td>NaN</td>\n",
       "      <td>0</td>\n",
       "      <td>@VirginAmerica I didn't today... Must mean I n...</td>\n",
       "      <td>NaN</td>\n",
       "      <td>2015-02-24 11:15:48 -0800</td>\n",
       "      <td>Lets Play</td>\n",
       "      <td>Central Time (US &amp; Canada)</td>\n",
       "    </tr>\n",
       "    <tr>\n",
       "      <th>3</th>\n",
       "      <td>570301031407624196</td>\n",
       "      <td>negative</td>\n",
       "      <td>1.0000</td>\n",
       "      <td>Bad Flight</td>\n",
       "      <td>0.7033</td>\n",
       "      <td>Virgin America</td>\n",
       "      <td>NaN</td>\n",
       "      <td>jnardino</td>\n",
       "      <td>NaN</td>\n",
       "      <td>0</td>\n",
       "      <td>@VirginAmerica it's really aggressive to blast...</td>\n",
       "      <td>NaN</td>\n",
       "      <td>2015-02-24 11:15:36 -0800</td>\n",
       "      <td>NaN</td>\n",
       "      <td>Pacific Time (US &amp; Canada)</td>\n",
       "    </tr>\n",
       "    <tr>\n",
       "      <th>4</th>\n",
       "      <td>570300817074462722</td>\n",
       "      <td>negative</td>\n",
       "      <td>1.0000</td>\n",
       "      <td>Can't Tell</td>\n",
       "      <td>1.0000</td>\n",
       "      <td>Virgin America</td>\n",
       "      <td>NaN</td>\n",
       "      <td>jnardino</td>\n",
       "      <td>NaN</td>\n",
       "      <td>0</td>\n",
       "      <td>@VirginAmerica and it's a really big bad thing...</td>\n",
       "      <td>NaN</td>\n",
       "      <td>2015-02-24 11:14:45 -0800</td>\n",
       "      <td>NaN</td>\n",
       "      <td>Pacific Time (US &amp; Canada)</td>\n",
       "    </tr>\n",
       "  </tbody>\n",
       "</table>\n",
       "</div>"
      ],
      "text/plain": [
       "             tweet_id airline_sentiment  airline_sentiment_confidence  \\\n",
       "0  570306133677760513           neutral                        1.0000   \n",
       "1  570301130888122368          positive                        0.3486   \n",
       "2  570301083672813571           neutral                        0.6837   \n",
       "3  570301031407624196          negative                        1.0000   \n",
       "4  570300817074462722          negative                        1.0000   \n",
       "\n",
       "  negativereason  negativereason_confidence         airline  \\\n",
       "0            NaN                        NaN  Virgin America   \n",
       "1            NaN                     0.0000  Virgin America   \n",
       "2            NaN                        NaN  Virgin America   \n",
       "3     Bad Flight                     0.7033  Virgin America   \n",
       "4     Can't Tell                     1.0000  Virgin America   \n",
       "\n",
       "  airline_sentiment_gold        name negativereason_gold  retweet_count  \\\n",
       "0                    NaN     cairdin                 NaN              0   \n",
       "1                    NaN    jnardino                 NaN              0   \n",
       "2                    NaN  yvonnalynn                 NaN              0   \n",
       "3                    NaN    jnardino                 NaN              0   \n",
       "4                    NaN    jnardino                 NaN              0   \n",
       "\n",
       "                                                text tweet_coord  \\\n",
       "0                @VirginAmerica What @dhepburn said.         NaN   \n",
       "1  @VirginAmerica plus you've added commercials t...         NaN   \n",
       "2  @VirginAmerica I didn't today... Must mean I n...         NaN   \n",
       "3  @VirginAmerica it's really aggressive to blast...         NaN   \n",
       "4  @VirginAmerica and it's a really big bad thing...         NaN   \n",
       "\n",
       "               tweet_created tweet_location               user_timezone  \n",
       "0  2015-02-24 11:35:52 -0800            NaN  Eastern Time (US & Canada)  \n",
       "1  2015-02-24 11:15:59 -0800            NaN  Pacific Time (US & Canada)  \n",
       "2  2015-02-24 11:15:48 -0800      Lets Play  Central Time (US & Canada)  \n",
       "3  2015-02-24 11:15:36 -0800            NaN  Pacific Time (US & Canada)  \n",
       "4  2015-02-24 11:14:45 -0800            NaN  Pacific Time (US & Canada)  "
      ]
     },
     "execution_count": 6,
     "metadata": {},
     "output_type": "execute_result"
    }
   ],
   "source": [
    "data.head()"
   ]
  },
  {
   "cell_type": "code",
   "execution_count": 7,
   "metadata": {},
   "outputs": [
    {
     "data": {
      "text/plain": [
       "tweet_id                            0\n",
       "airline_sentiment                   0\n",
       "airline_sentiment_confidence        0\n",
       "negativereason                   5462\n",
       "negativereason_confidence        4118\n",
       "airline                             0\n",
       "airline_sentiment_gold          14600\n",
       "name                                0\n",
       "negativereason_gold             14608\n",
       "retweet_count                       0\n",
       "text                                0\n",
       "tweet_coord                     13621\n",
       "tweet_created                       0\n",
       "tweet_location                   4733\n",
       "user_timezone                    4820\n",
       "dtype: int64"
      ]
     },
     "execution_count": 7,
     "metadata": {},
     "output_type": "execute_result"
    }
   ],
   "source": [
    "data.isnull().sum()"
   ]
  },
  {
   "cell_type": "markdown",
   "metadata": {},
   "source": [
    "### comments:\n",
    "\n",
    "* there are missing data in multiple columns but for this project we only care about the text and airline_sentiment columns which do not have any missing values so we can drop other columns"
   ]
  },
  {
   "cell_type": "code",
   "execution_count": 8,
   "metadata": {},
   "outputs": [],
   "source": [
    "data=data.drop(data.columns.difference(['text','airline_sentiment']), axis=1)"
   ]
  },
  {
   "cell_type": "code",
   "execution_count": 9,
   "metadata": {},
   "outputs": [
    {
     "name": "stdout",
     "output_type": "stream",
     "text": [
      "Index(['airline_sentiment', 'text'], dtype='object')\n"
     ]
    }
   ],
   "source": [
    "print(data.columns)"
   ]
  },
  {
   "cell_type": "code",
   "execution_count": 10,
   "metadata": {},
   "outputs": [
    {
     "data": {
      "text/plain": [
       "(14640, 2)"
      ]
     },
     "execution_count": 10,
     "metadata": {},
     "output_type": "execute_result"
    }
   ],
   "source": [
    "data.shape"
   ]
  },
  {
   "cell_type": "code",
   "execution_count": 11,
   "metadata": {},
   "outputs": [
    {
     "data": {
      "text/html": [
       "<div>\n",
       "<style scoped>\n",
       "    .dataframe tbody tr th:only-of-type {\n",
       "        vertical-align: middle;\n",
       "    }\n",
       "\n",
       "    .dataframe tbody tr th {\n",
       "        vertical-align: top;\n",
       "    }\n",
       "\n",
       "    .dataframe thead th {\n",
       "        text-align: right;\n",
       "    }\n",
       "</style>\n",
       "<table border=\"1\" class=\"dataframe\">\n",
       "  <thead>\n",
       "    <tr style=\"text-align: right;\">\n",
       "      <th></th>\n",
       "      <th>airline_sentiment</th>\n",
       "      <th>text</th>\n",
       "    </tr>\n",
       "  </thead>\n",
       "  <tbody>\n",
       "    <tr>\n",
       "      <th>0</th>\n",
       "      <td>neutral</td>\n",
       "      <td>@VirginAmerica What @dhepburn said.</td>\n",
       "    </tr>\n",
       "    <tr>\n",
       "      <th>1</th>\n",
       "      <td>positive</td>\n",
       "      <td>@VirginAmerica plus you've added commercials t...</td>\n",
       "    </tr>\n",
       "    <tr>\n",
       "      <th>2</th>\n",
       "      <td>neutral</td>\n",
       "      <td>@VirginAmerica I didn't today... Must mean I n...</td>\n",
       "    </tr>\n",
       "    <tr>\n",
       "      <th>3</th>\n",
       "      <td>negative</td>\n",
       "      <td>@VirginAmerica it's really aggressive to blast...</td>\n",
       "    </tr>\n",
       "    <tr>\n",
       "      <th>4</th>\n",
       "      <td>negative</td>\n",
       "      <td>@VirginAmerica and it's a really big bad thing...</td>\n",
       "    </tr>\n",
       "  </tbody>\n",
       "</table>\n",
       "</div>"
      ],
      "text/plain": [
       "  airline_sentiment                                               text\n",
       "0           neutral                @VirginAmerica What @dhepburn said.\n",
       "1          positive  @VirginAmerica plus you've added commercials t...\n",
       "2           neutral  @VirginAmerica I didn't today... Must mean I n...\n",
       "3          negative  @VirginAmerica it's really aggressive to blast...\n",
       "4          negative  @VirginAmerica and it's a really big bad thing..."
      ]
     },
     "execution_count": 11,
     "metadata": {},
     "output_type": "execute_result"
    }
   ],
   "source": [
    "data.head()"
   ]
  },
  {
   "cell_type": "code",
   "execution_count": 12,
   "metadata": {},
   "outputs": [],
   "source": [
    "def tweet_to_words(raw_review):\n",
    "    '''\n",
    "    Function to convert a raw review to a string of words\n",
    "    the input is a single string (a raw airline review), and\n",
    "    the output is a single string (a preprocessed airline review)\n",
    "    it includes the following steps:\n",
    "    1) removing html tags\n",
    "    2) removing special characters and numbers\n",
    "    3) converting to lower case and tokenization\n",
    "    4) removing the stopwords\n",
    "    5) Lemmatization\n",
    "    6) joining the words back into one string separated by space\n",
    "    '''\n",
    "    # 1) removing html tags\n",
    "    review_text=BeautifulSoup(raw_review, 'html.parser').get_text()\n",
    "    \n",
    "    # 2) removing special characters, punctuations and numbers\n",
    "    review_text=re.sub(pattern=r'[^a-zA-Z\\s]', repl='', string=review_text)\n",
    "    \n",
    "    # 3) converting to lower case and tokenization    \n",
    "    words=word_tokenize(review_text.lower())\n",
    "    \n",
    "    # 4) removing the stopwords\n",
    "    stopwords_list=stopwords.words('english')  \n",
    "    words=list(filter(lambda x: x not in stopwords_list, words))\n",
    "    \n",
    "    # 5) Lemmatizing the words    \n",
    "    lemmatizer=WordNetLemmatizer()\n",
    "    words=list(map(lambda x: lemmatizer.lemmatize(x, pos='v'), words))\n",
    "    \n",
    "    # 6) joining the words in the list\n",
    "    review_text=' '.join(words)\n",
    "    \n",
    "    return review_text    "
   ]
  },
  {
   "cell_type": "code",
   "execution_count": 13,
   "metadata": {},
   "outputs": [],
   "source": [
    "processed_data=data.copy()\n",
    "processed_data['text']=processed_data['text'].apply(tweet_to_words)"
   ]
  },
  {
   "cell_type": "code",
   "execution_count": 14,
   "metadata": {},
   "outputs": [
    {
     "data": {
      "text/html": [
       "<div>\n",
       "<style scoped>\n",
       "    .dataframe tbody tr th:only-of-type {\n",
       "        vertical-align: middle;\n",
       "    }\n",
       "\n",
       "    .dataframe tbody tr th {\n",
       "        vertical-align: top;\n",
       "    }\n",
       "\n",
       "    .dataframe thead th {\n",
       "        text-align: right;\n",
       "    }\n",
       "</style>\n",
       "<table border=\"1\" class=\"dataframe\">\n",
       "  <thead>\n",
       "    <tr style=\"text-align: right;\">\n",
       "      <th></th>\n",
       "      <th>airline_sentiment</th>\n",
       "      <th>text</th>\n",
       "    </tr>\n",
       "  </thead>\n",
       "  <tbody>\n",
       "    <tr>\n",
       "      <th>0</th>\n",
       "      <td>neutral</td>\n",
       "      <td>virginamerica dhepburn say</td>\n",
       "    </tr>\n",
       "    <tr>\n",
       "      <th>1</th>\n",
       "      <td>positive</td>\n",
       "      <td>virginamerica plus youve add commercials exper...</td>\n",
       "    </tr>\n",
       "    <tr>\n",
       "      <th>2</th>\n",
       "      <td>neutral</td>\n",
       "      <td>virginamerica didnt today must mean need take ...</td>\n",
       "    </tr>\n",
       "    <tr>\n",
       "      <th>3</th>\n",
       "      <td>negative</td>\n",
       "      <td>virginamerica really aggressive blast obnoxiou...</td>\n",
       "    </tr>\n",
       "    <tr>\n",
       "      <th>4</th>\n",
       "      <td>negative</td>\n",
       "      <td>virginamerica really big bad thing</td>\n",
       "    </tr>\n",
       "  </tbody>\n",
       "</table>\n",
       "</div>"
      ],
      "text/plain": [
       "  airline_sentiment                                               text\n",
       "0           neutral                         virginamerica dhepburn say\n",
       "1          positive  virginamerica plus youve add commercials exper...\n",
       "2           neutral  virginamerica didnt today must mean need take ...\n",
       "3          negative  virginamerica really aggressive blast obnoxiou...\n",
       "4          negative                 virginamerica really big bad thing"
      ]
     },
     "execution_count": 14,
     "metadata": {},
     "output_type": "execute_result"
    }
   ],
   "source": [
    "processed_data.head()"
   ]
  },
  {
   "cell_type": "code",
   "execution_count": 15,
   "metadata": {},
   "outputs": [],
   "source": [
    "# Vectorization (Converting the text data to numbers).\n",
    "# two methods were used count_vectorization and TfIdf-vectorization\n",
    "\n",
    "from sklearn.feature_extraction.text import CountVectorizer, TfidfVectorizer\n",
    "\n",
    "vectorizer = CountVectorizer(max_features=1200)                # Keep only 1200 features to make the computation faster\n",
    "tfidf_vectorizer = TfidfVectorizer(max_features=1200)\n",
    "\n",
    "data_features_count = vectorizer.fit_transform(processed_data['text']).toarray()\n",
    "data_features_tfidf = tfidf_vectorizer.fit_transform(processed_data['text']).toarray()"
   ]
  },
  {
   "cell_type": "code",
   "execution_count": 16,
   "metadata": {},
   "outputs": [
    {
     "data": {
      "text/plain": [
       "(14640, 1200)"
      ]
     },
     "execution_count": 16,
     "metadata": {},
     "output_type": "execute_result"
    }
   ],
   "source": [
    "data_features_count.shape"
   ]
  },
  {
   "cell_type": "code",
   "execution_count": 17,
   "metadata": {},
   "outputs": [
    {
     "data": {
      "text/plain": [
       "(14640, 1200)"
      ]
     },
     "execution_count": 17,
     "metadata": {},
     "output_type": "execute_result"
    }
   ],
   "source": [
    "data_features_tfidf.shape"
   ]
  },
  {
   "cell_type": "code",
   "execution_count": 18,
   "metadata": {},
   "outputs": [],
   "source": [
    "cv_score=[]\n",
    "train_score=[]\n",
    "test_score=[]"
   ]
  },
  {
   "cell_type": "markdown",
   "metadata": {},
   "source": [
    "## ML model using CountVectorizer"
   ]
  },
  {
   "cell_type": "code",
   "execution_count": 19,
   "metadata": {},
   "outputs": [],
   "source": [
    "# Spliting the data into training and test sets\n",
    "\n",
    "from sklearn.model_selection import train_test_split\n",
    "\n",
    "x_train, x_test, y_train, y_test = train_test_split(data_features_count, processed_data['airline_sentiment'], test_size=0.25, random_state=0)"
   ]
  },
  {
   "cell_type": "code",
   "execution_count": 20,
   "metadata": {},
   "outputs": [
    {
     "name": "stdout",
     "output_type": "stream",
     "text": [
      "0.7198770491803278\n"
     ]
    }
   ],
   "source": [
    "# Using Random Forest classifier and calculating the cross validation score\n",
    "from sklearn.ensemble import RandomForestClassifier\n",
    "from sklearn.model_selection import cross_val_score\n",
    "\n",
    "clf = RandomForestClassifier(n_estimators=50, n_jobs=4)\n",
    "score=cross_val_score(clf, data_features_count, processed_data['airline_sentiment'], cv=10).mean()\n",
    "cv_score.append(score)\n",
    "print(score)"
   ]
  },
  {
   "cell_type": "code",
   "execution_count": 21,
   "metadata": {},
   "outputs": [
    {
     "name": "stdout",
     "output_type": "stream",
     "text": [
      "model accuracy on training data: 0.991\n",
      "model accuracy on test data: 0.748\n"
     ]
    }
   ],
   "source": [
    "# training and testing the Random Forest classifier using the splitted data sets:\n",
    "clf.fit(x_train, y_train)\n",
    "train_score.append(clf.score(x_train, y_train))\n",
    "test_score.append(clf.score(x_test, y_test))\n",
    "print(f\"model accuracy on training data: {clf.score(x_train, y_train):.3f}\")\n",
    "print(f\"model accuracy on test data: {clf.score(x_test, y_test):.3f}\")"
   ]
  },
  {
   "cell_type": "code",
   "execution_count": 22,
   "metadata": {},
   "outputs": [
    {
     "name": "stdout",
     "output_type": "stream",
     "text": [
      "[[2043  205   79]\n",
      " [ 310  369   93]\n",
      " [ 134  101  326]]\n"
     ]
    },
    {
     "data": {
      "image/png": "[encoded data removed]",
      "text/plain": [
       "<Figure size 432x288 with 1 Axes>"
      ]
     },
     "metadata": {},
     "output_type": "display_data"
    }
   ],
   "source": [
    "from sklearn.metrics import confusion_matrix, classification_report\n",
    "y_pred_count=clf.predict(x_test)\n",
    "cm=confusion_matrix(y_test, y_pred_count)\n",
    "print(cm)\n",
    "sns.heatmap(cm, annot=True, fmt='d', cbar=False, \n",
    "            xticklabels=['Negative', 'Nuteral', 'Positive'], yticklabels=['Negative', 'Nuteral', 'Positive'])\n",
    "plt.gca().set_xlabel('Predicted')\n",
    "plt.gca().set_ylabel('True');"
   ]
  },
  {
   "cell_type": "code",
   "execution_count": 23,
   "metadata": {},
   "outputs": [
    {
     "name": "stdout",
     "output_type": "stream",
     "text": [
      "============== Classification report for ML model based on CountVectorization ==============\n",
      "              precision    recall  f1-score   support\n",
      "\n",
      "    negative       0.82      0.88      0.85      2327\n",
      "     neutral       0.55      0.48      0.51       772\n",
      "    positive       0.65      0.58      0.62       561\n",
      "\n",
      "    accuracy                           0.75      3660\n",
      "   macro avg       0.67      0.65      0.66      3660\n",
      "weighted avg       0.74      0.75      0.74      3660\n",
      "\n"
     ]
    }
   ],
   "source": [
    "print(' '.rjust(15,'=')+'Classification report for ML model based on CountVectorization'+' '.ljust(15,'='))\n",
    "print(classification_report(y_test, y_pred_count))"
   ]
  },
  {
   "cell_type": "markdown",
   "metadata": {},
   "source": [
    "## ML model using TfIdfVectorizer"
   ]
  },
  {
   "cell_type": "code",
   "execution_count": 24,
   "metadata": {},
   "outputs": [],
   "source": [
    "# Spliting the data into training and test sets\n",
    "\n",
    "x_train, x_test, y_train, y_test = train_test_split(data_features_tfidf, processed_data['airline_sentiment'], test_size=0.25, random_state=0)"
   ]
  },
  {
   "cell_type": "code",
   "execution_count": 25,
   "metadata": {},
   "outputs": [
    {
     "name": "stdout",
     "output_type": "stream",
     "text": [
      "0.7134562841530055\n"
     ]
    }
   ],
   "source": [
    "# Using Random Forest classifier and calculating the cross validation score for TfIDFVectorizer\n",
    "\n",
    "clf = RandomForestClassifier(n_estimators=50, n_jobs=4)\n",
    "score=cross_val_score(clf, data_features_tfidf, processed_data['airline_sentiment'], cv=10).mean()\n",
    "cv_score.append(score)\n",
    "print(score)"
   ]
  },
  {
   "cell_type": "code",
   "execution_count": 26,
   "metadata": {},
   "outputs": [
    {
     "name": "stdout",
     "output_type": "stream",
     "text": [
      "model accuracy on training data: 0.991\n",
      "model accuracy on test data: 0.755\n"
     ]
    }
   ],
   "source": [
    "# training and testing the Random Forest classifier using the splitted data sets:\n",
    "clf.fit(x_train, y_train)\n",
    "train_score.append(clf.score(x_train, y_train))\n",
    "test_score.append(clf.score(x_test, y_test))\n",
    "print(f\"model accuracy on training data: {clf.score(x_train, y_train):.3f}\")\n",
    "print(f\"model accuracy on test data: {clf.score(x_test, y_test):.3f}\")"
   ]
  },
  {
   "cell_type": "code",
   "execution_count": 27,
   "metadata": {},
   "outputs": [
    {
     "name": "stdout",
     "output_type": "stream",
     "text": [
      "[[2144  139   44]\n",
      " [ 389  328   55]\n",
      " [ 186   82  293]]\n"
     ]
    },
    {
     "data": {
      "image/png": "[encoded data removed]",
      "text/plain": [
       "<Figure size 432x288 with 1 Axes>"
      ]
     },
     "metadata": {},
     "output_type": "display_data"
    }
   ],
   "source": [
    "y_pred_tfidf=clf.predict(x_test)\n",
    "cm=confusion_matrix(y_test, y_pred_tfidf)\n",
    "print(cm)\n",
    "sns.heatmap(cm, annot=True, fmt='d', cbar=False, \n",
    "            xticklabels=['Negative', 'Nuteral', 'Positive'], yticklabels=['Negative', 'Nuteral', 'Positive'])\n",
    "plt.gca().set_xlabel('Predicted')\n",
    "plt.gca().set_ylabel('True');"
   ]
  },
  {
   "cell_type": "code",
   "execution_count": 28,
   "metadata": {},
   "outputs": [
    {
     "name": "stdout",
     "output_type": "stream",
     "text": [
      "============== Classification report for ML model based on TfIdfVectorization ==============\n",
      "              precision    recall  f1-score   support\n",
      "\n",
      "    negative       0.79      0.92      0.85      2327\n",
      "     neutral       0.60      0.42      0.50       772\n",
      "    positive       0.75      0.52      0.61       561\n",
      "\n",
      "    accuracy                           0.76      3660\n",
      "   macro avg       0.71      0.62      0.65      3660\n",
      "weighted avg       0.74      0.76      0.74      3660\n",
      "\n"
     ]
    }
   ],
   "source": [
    "print(' '.rjust(15,'=')+'Classification report for ML model based on TfIdfVectorization'+' '.ljust(15,'='))\n",
    "print(classification_report(y_test, y_pred_tfidf))"
   ]
  },
  {
   "cell_type": "markdown",
   "metadata": {},
   "source": [
    "## Summary:"
   ]
  },
  {
   "cell_type": "code",
   "execution_count": 29,
   "metadata": {},
   "outputs": [
    {
     "data": {
      "text/html": [
       "<div>\n",
       "<style scoped>\n",
       "    .dataframe tbody tr th:only-of-type {\n",
       "        vertical-align: middle;\n",
       "    }\n",
       "\n",
       "    .dataframe tbody tr th {\n",
       "        vertical-align: top;\n",
       "    }\n",
       "\n",
       "    .dataframe thead th {\n",
       "        text-align: right;\n",
       "    }\n",
       "</style>\n",
       "<table border=\"1\" class=\"dataframe\">\n",
       "  <thead>\n",
       "    <tr style=\"text-align: right;\">\n",
       "      <th></th>\n",
       "      <th>Vectorizer</th>\n",
       "      <th>CV score</th>\n",
       "      <th>train score</th>\n",
       "      <th>test score</th>\n",
       "    </tr>\n",
       "  </thead>\n",
       "  <tbody>\n",
       "    <tr>\n",
       "      <th>0</th>\n",
       "      <td>Count Vectorizer</td>\n",
       "      <td>0.719877</td>\n",
       "      <td>0.991075</td>\n",
       "      <td>0.748087</td>\n",
       "    </tr>\n",
       "    <tr>\n",
       "      <th>1</th>\n",
       "      <td>Tf-Idf Vectorizer</td>\n",
       "      <td>0.713456</td>\n",
       "      <td>0.991075</td>\n",
       "      <td>0.755464</td>\n",
       "    </tr>\n",
       "  </tbody>\n",
       "</table>\n",
       "</div>"
      ],
      "text/plain": [
       "          Vectorizer  CV score  train score  test score\n",
       "0   Count Vectorizer  0.719877     0.991075    0.748087\n",
       "1  Tf-Idf Vectorizer  0.713456     0.991075    0.755464"
      ]
     },
     "execution_count": 29,
     "metadata": {},
     "output_type": "execute_result"
    }
   ],
   "source": [
    "result_comparison=pd.DataFrame({\n",
    "    'Vectorizer': ['Count Vectorizer', 'Tf-Idf Vectorizer'],\n",
    "    'CV score': cv_score,\n",
    "    'train score': train_score,\n",
    "    'test score': test_score\n",
    "})\n",
    "\n",
    "result_comparison"
   ]
  },
  {
   "cell_type": "markdown",
   "metadata": {},
   "source": [
    "### comments\n",
    "* Dataset included tweets about different airlines in text format and their sentiment score of negative, neutral and positive sentiments.\n",
    "* The objective was to build a model to classify tweets to negative, neutral and positive.\n",
    "* the data was pre-processed first using variuos techniques and libraries including removing html tags, removing special characters and numbers, convertying to lower case, tokenization, removing stopwords, and lemmitization.\n",
    "* The pre-precessed data is converted to numbers using two methods: countvectorizer and tfidfvectorizer, so that we can feed the data in the model.\n",
    "* After building the Random Forest classification model, the model was evaluated using cross-validation and test data. Then  the result for the test data was predicted and used to create confusion matrix and classification report.\n",
    "* After that it was shown that the performance of the classifier is almost the same using different vectorization techniques.\n",
    "* To increase accuracy, we can use different Pre-processing techniques, different classifier, or perform feature engineering (grid search or random search) to tune the model hyper-parameters.\n",
    "* the Random Forest classifier seems overfitted we need to find the best hyper-parameter to reduce the variance"
   ]
  },
  {
   "cell_type": "markdown",
   "metadata": {},
   "source": [
    "## Bonus: using ANN and tensorflow"
   ]
  },
  {
   "cell_type": "code",
   "execution_count": 30,
   "metadata": {},
   "outputs": [],
   "source": [
    "from sklearn.preprocessing import StandardScaler\n",
    "from tensorflow.keras.models import Sequential\n",
    "from tensorflow.keras.layers import Dense\n",
    "from tensorflow.keras.utils import to_categorical\n",
    "from tensorflow.keras import regularizers"
   ]
  },
  {
   "cell_type": "code",
   "execution_count": 31,
   "metadata": {},
   "outputs": [],
   "source": [
    "# Preparing data for Neural Network model\n",
    "\n",
    "scaler=StandardScaler()\n",
    "xtrain=scaler.fit_transform(x_train)\n",
    "xtest=scaler.transform(x_test)\n",
    "\n",
    "ytrain=y_train.replace({'negative':0, 'neutral':1, 'positive':2})\n",
    "ytest=y_test.replace({'negative':0, 'neutral':1, 'positive':2})\n",
    "\n",
    "ytrain=to_categorical(ytrain, 3)\n",
    "ytest=to_categorical(ytest, 3)"
   ]
  },
  {
   "cell_type": "code",
   "execution_count": 32,
   "metadata": {},
   "outputs": [],
   "source": [
    "model=Sequential()\n",
    "model.add(Dense(1200, activation='relu', \n",
    "                kernel_regularizer=regularizers.l1_l2(l1=0.001, l2=0.01),\n",
    "                bias_regularizer=regularizers.l2(1e-3),\n",
    "                activity_regularizer=regularizers.l2(1e-3)))\n",
    "model.add(Dense(300, activation='relu', kernel_regularizer=regularizers.l2(1e-2), \n",
    "                bias_regularizer=regularizers.l2(1e-3),\n",
    "                activity_regularizer=regularizers.l2(1e-3)))\n",
    "model.add(Dense(3, activation='softmax'))"
   ]
  },
  {
   "cell_type": "code",
   "execution_count": 33,
   "metadata": {},
   "outputs": [],
   "source": [
    "model.compile(loss='categorical_crossentropy', optimizer='SGD', metrics=['accuracy'])"
   ]
  },
  {
   "cell_type": "code",
   "execution_count": 34,
   "metadata": {},
   "outputs": [
    {
     "name": "stdout",
     "output_type": "stream",
     "text": [
      "Epoch 1/250\n",
      "18/18 [==============================] - 2s 70ms/step - loss: 54.4265 - accuracy: 0.5055 - val_loss: 53.7958 - val_accuracy: 0.5956\n",
      "Epoch 2/250\n",
      "18/18 [==============================] - 0s 22ms/step - loss: 53.6217 - accuracy: 0.6043 - val_loss: 53.0847 - val_accuracy: 0.6120\n",
      "Epoch 3/250\n",
      "18/18 [==============================] - 0s 23ms/step - loss: 52.8933 - accuracy: 0.6275 - val_loss: 52.3927 - val_accuracy: 0.6243\n",
      "Epoch 4/250\n",
      "18/18 [==============================] - 0s 23ms/step - loss: 52.1983 - accuracy: 0.6465 - val_loss: 51.7160 - val_accuracy: 0.6375\n",
      "Epoch 5/250\n",
      "18/18 [==============================] - 0s 22ms/step - loss: 51.5095 - accuracy: 0.6547 - val_loss: 51.0504 - val_accuracy: 0.6494\n",
      "Epoch 6/250\n",
      "18/18 [==============================] - 0s 23ms/step - loss: 50.8506 - accuracy: 0.6700 - val_loss: 50.3966 - val_accuracy: 0.6594\n",
      "Epoch 7/250\n",
      "18/18 [==============================] - 0s 22ms/step - loss: 50.1713 - accuracy: 0.6917 - val_loss: 49.7500 - val_accuracy: 0.6676\n",
      "Epoch 8/250\n",
      "18/18 [==============================] - 0s 25ms/step - loss: 49.5191 - accuracy: 0.7041 - val_loss: 49.1122 - val_accuracy: 0.6740\n",
      "Epoch 9/250\n",
      "18/18 [==============================] - 0s 23ms/step - loss: 48.8762 - accuracy: 0.7170 - val_loss: 48.4822 - val_accuracy: 0.6817\n",
      "Epoch 10/250\n",
      "18/18 [==============================] - 0s 23ms/step - loss: 48.2405 - accuracy: 0.7259 - val_loss: 47.8599 - val_accuracy: 0.6885\n",
      "Epoch 11/250\n",
      "18/18 [==============================] - 0s 23ms/step - loss: 47.6115 - accuracy: 0.7370 - val_loss: 47.2443 - val_accuracy: 0.6935\n",
      "Epoch 12/250\n",
      "18/18 [==============================] - 0s 22ms/step - loss: 46.9959 - accuracy: 0.7460 - val_loss: 46.6370 - val_accuracy: 0.6958\n",
      "Epoch 13/250\n",
      "18/18 [==============================] - 0s 24ms/step - loss: 46.3797 - accuracy: 0.7504 - val_loss: 46.0351 - val_accuracy: 0.7031\n",
      "Epoch 14/250\n",
      "18/18 [==============================] - 0s 23ms/step - loss: 45.7627 - accuracy: 0.7533 - val_loss: 45.4375 - val_accuracy: 0.7108\n",
      "Epoch 15/250\n",
      "18/18 [==============================] - 0s 22ms/step - loss: 45.1647 - accuracy: 0.7685 - val_loss: 44.8480 - val_accuracy: 0.7177\n",
      "Epoch 16/250\n",
      "18/18 [==============================] - 0s 23ms/step - loss: 44.5813 - accuracy: 0.7735 - val_loss: 44.2650 - val_accuracy: 0.7204\n",
      "Epoch 17/250\n",
      "18/18 [==============================] - 0s 22ms/step - loss: 43.9764 - accuracy: 0.7859 - val_loss: 43.6873 - val_accuracy: 0.7250\n",
      "Epoch 18/250\n",
      "18/18 [==============================] - 0s 23ms/step - loss: 43.4060 - accuracy: 0.7932 - val_loss: 43.1166 - val_accuracy: 0.7281\n",
      "Epoch 19/250\n",
      "18/18 [==============================] - 0s 23ms/step - loss: 42.8399 - accuracy: 0.7948 - val_loss: 42.5510 - val_accuracy: 0.7304\n",
      "Epoch 20/250\n",
      "18/18 [==============================] - 0s 22ms/step - loss: 42.2662 - accuracy: 0.8029 - val_loss: 41.9912 - val_accuracy: 0.7318\n",
      "Epoch 21/250\n",
      "18/18 [==============================] - 0s 26ms/step - loss: 41.7008 - accuracy: 0.8079 - val_loss: 41.4380 - val_accuracy: 0.7336\n",
      "Epoch 22/250\n",
      "18/18 [==============================] - 0s 23ms/step - loss: 41.1403 - accuracy: 0.8207 - val_loss: 40.8897 - val_accuracy: 0.7354\n",
      "Epoch 23/250\n",
      "18/18 [==============================] - 0s 23ms/step - loss: 40.5922 - accuracy: 0.8219 - val_loss: 40.3480 - val_accuracy: 0.7372\n",
      "Epoch 24/250\n",
      "18/18 [==============================] - 0s 22ms/step - loss: 40.0472 - accuracy: 0.8229 - val_loss: 39.8101 - val_accuracy: 0.7395\n",
      "Epoch 25/250\n",
      "18/18 [==============================] - 0s 24ms/step - loss: 39.5100 - accuracy: 0.8301 - val_loss: 39.2782 - val_accuracy: 0.7427\n",
      "Epoch 26/250\n",
      "18/18 [==============================] - 0s 25ms/step - loss: 38.9747 - accuracy: 0.8314 - val_loss: 38.7517 - val_accuracy: 0.7473\n",
      "Epoch 27/250\n",
      "18/18 [==============================] - 0s 23ms/step - loss: 38.4402 - accuracy: 0.8433 - val_loss: 38.2313 - val_accuracy: 0.7454\n",
      "Epoch 28/250\n",
      "18/18 [==============================] - 0s 24ms/step - loss: 37.9186 - accuracy: 0.8428 - val_loss: 37.7147 - val_accuracy: 0.7518\n",
      "Epoch 29/250\n",
      "18/18 [==============================] - 0s 24ms/step - loss: 37.3938 - accuracy: 0.8499 - val_loss: 37.2036 - val_accuracy: 0.7527\n",
      "Epoch 30/250\n",
      "18/18 [==============================] - 0s 24ms/step - loss: 36.8912 - accuracy: 0.8541 - val_loss: 36.6993 - val_accuracy: 0.7518\n",
      "Epoch 31/250\n",
      "18/18 [==============================] - 0s 23ms/step - loss: 36.3776 - accuracy: 0.8575 - val_loss: 36.1981 - val_accuracy: 0.7555\n",
      "Epoch 32/250\n",
      "18/18 [==============================] - 0s 23ms/step - loss: 35.8710 - accuracy: 0.8616 - val_loss: 35.7027 - val_accuracy: 0.7582\n",
      "Epoch 33/250\n",
      "18/18 [==============================] - 0s 24ms/step - loss: 35.3834 - accuracy: 0.8529 - val_loss: 35.2128 - val_accuracy: 0.7577\n",
      "Epoch 34/250\n",
      "18/18 [==============================] - 0s 22ms/step - loss: 34.8785 - accuracy: 0.8675 - val_loss: 34.7270 - val_accuracy: 0.7587\n",
      "Epoch 35/250\n",
      "18/18 [==============================] - 0s 25ms/step - loss: 34.3978 - accuracy: 0.8637 - val_loss: 34.2473 - val_accuracy: 0.7596\n",
      "Epoch 36/250\n",
      "18/18 [==============================] - 0s 23ms/step - loss: 33.9115 - accuracy: 0.8695 - val_loss: 33.7709 - val_accuracy: 0.7600\n",
      "Epoch 37/250\n",
      "18/18 [==============================] - 0s 22ms/step - loss: 33.4440 - accuracy: 0.8653 - val_loss: 33.2994 - val_accuracy: 0.7605\n",
      "Epoch 38/250\n",
      "18/18 [==============================] - 0s 22ms/step - loss: 32.9633 - accuracy: 0.8739 - val_loss: 32.8331 - val_accuracy: 0.7623\n",
      "Epoch 39/250\n",
      "18/18 [==============================] - 0s 24ms/step - loss: 32.4889 - accuracy: 0.8797 - val_loss: 32.3722 - val_accuracy: 0.7628\n",
      "Epoch 40/250\n",
      "18/18 [==============================] - 0s 24ms/step - loss: 32.0352 - accuracy: 0.8801 - val_loss: 31.9151 - val_accuracy: 0.7664\n",
      "Epoch 41/250\n",
      "18/18 [==============================] - 0s 22ms/step - loss: 31.5718 - accuracy: 0.8816 - val_loss: 31.4632 - val_accuracy: 0.7664\n",
      "Epoch 42/250\n",
      "18/18 [==============================] - 0s 23ms/step - loss: 31.1146 - accuracy: 0.8867 - val_loss: 31.0157 - val_accuracy: 0.7673\n",
      "Epoch 43/250\n",
      "18/18 [==============================] - 0s 23ms/step - loss: 30.6727 - accuracy: 0.8846 - val_loss: 30.5728 - val_accuracy: 0.7691\n",
      "Epoch 44/250\n",
      "18/18 [==============================] - 0s 23ms/step - loss: 30.2219 - accuracy: 0.8897 - val_loss: 30.1345 - val_accuracy: 0.7687\n",
      "Epoch 45/250\n",
      "18/18 [==============================] - 0s 23ms/step - loss: 29.7800 - accuracy: 0.8942 - val_loss: 29.7010 - val_accuracy: 0.7696\n",
      "Epoch 46/250\n",
      "18/18 [==============================] - 0s 22ms/step - loss: 29.3491 - accuracy: 0.8923 - val_loss: 29.2715 - val_accuracy: 0.7700\n",
      "Epoch 47/250\n",
      "18/18 [==============================] - 0s 22ms/step - loss: 28.9203 - accuracy: 0.8930 - val_loss: 28.8459 - val_accuracy: 0.7714\n",
      "Epoch 48/250\n",
      "18/18 [==============================] - 0s 22ms/step - loss: 28.4878 - accuracy: 0.8975 - val_loss: 28.4250 - val_accuracy: 0.7705\n",
      "Epoch 49/250\n",
      "18/18 [==============================] - 0s 22ms/step - loss: 28.0712 - accuracy: 0.8946 - val_loss: 28.0089 - val_accuracy: 0.7714\n",
      "Epoch 50/250\n",
      "18/18 [==============================] - 0s 23ms/step - loss: 27.6486 - accuracy: 0.9009 - val_loss: 27.5972 - val_accuracy: 0.7719\n",
      "Epoch 51/250\n",
      "18/18 [==============================] - 0s 27ms/step - loss: 27.2348 - accuracy: 0.8999 - val_loss: 27.1900 - val_accuracy: 0.7723\n",
      "Epoch 52/250\n",
      "18/18 [==============================] - 0s 23ms/step - loss: 26.8274 - accuracy: 0.9009 - val_loss: 26.7868 - val_accuracy: 0.7709\n",
      "Epoch 53/250\n",
      "18/18 [==============================] - 0s 23ms/step - loss: 26.4287 - accuracy: 0.8986 - val_loss: 26.3875 - val_accuracy: 0.7714\n",
      "Epoch 54/250\n",
      "18/18 [==============================] - 0s 24ms/step - loss: 26.0204 - accuracy: 0.9073 - val_loss: 25.9930 - val_accuracy: 0.7714\n",
      "Epoch 55/250\n",
      "18/18 [==============================] - 0s 23ms/step - loss: 25.6222 - accuracy: 0.9068 - val_loss: 25.6019 - val_accuracy: 0.7696\n",
      "Epoch 56/250\n",
      "18/18 [==============================] - 0s 23ms/step - loss: 25.2432 - accuracy: 0.9032 - val_loss: 25.2157 - val_accuracy: 0.7714\n",
      "Epoch 57/250\n",
      "18/18 [==============================] - 0s 22ms/step - loss: 24.8503 - accuracy: 0.9076 - val_loss: 24.8329 - val_accuracy: 0.7728\n",
      "Epoch 58/250\n",
      "18/18 [==============================] - 0s 22ms/step - loss: 24.4677 - accuracy: 0.9096 - val_loss: 24.4552 - val_accuracy: 0.7719\n",
      "Epoch 59/250\n",
      "18/18 [==============================] - 0s 23ms/step - loss: 24.0866 - accuracy: 0.9098 - val_loss: 24.0811 - val_accuracy: 0.7732\n",
      "Epoch 60/250\n",
      "18/18 [==============================] - 0s 23ms/step - loss: 23.7087 - accuracy: 0.9134 - val_loss: 23.7101 - val_accuracy: 0.7737\n",
      "Epoch 61/250\n",
      "18/18 [==============================] - 0s 22ms/step - loss: 23.3371 - accuracy: 0.9175 - val_loss: 23.3439 - val_accuracy: 0.7741\n",
      "Epoch 62/250\n",
      "18/18 [==============================] - 0s 22ms/step - loss: 22.9686 - accuracy: 0.9181 - val_loss: 22.9819 - val_accuracy: 0.7750\n",
      "Epoch 63/250\n",
      "18/18 [==============================] - 0s 22ms/step - loss: 22.6095 - accuracy: 0.9154 - val_loss: 22.6248 - val_accuracy: 0.7732\n",
      "Epoch 64/250\n",
      "18/18 [==============================] - 0s 25ms/step - loss: 22.2406 - accuracy: 0.9205 - val_loss: 22.2695 - val_accuracy: 0.7791\n",
      "Epoch 65/250\n",
      "18/18 [==============================] - 0s 24ms/step - loss: 21.8933 - accuracy: 0.9211 - val_loss: 21.9197 - val_accuracy: 0.7741\n",
      "Epoch 66/250\n",
      "18/18 [==============================] - 0s 22ms/step - loss: 21.5421 - accuracy: 0.9186 - val_loss: 21.5724 - val_accuracy: 0.7791\n",
      "Epoch 67/250\n",
      "18/18 [==============================] - 0s 22ms/step - loss: 21.1946 - accuracy: 0.9216 - val_loss: 21.2296 - val_accuracy: 0.7778\n",
      "Epoch 68/250\n",
      "18/18 [==============================] - 0s 24ms/step - loss: 20.8591 - accuracy: 0.9180 - val_loss: 20.8915 - val_accuracy: 0.7778\n",
      "Epoch 69/250\n",
      "18/18 [==============================] - 0s 23ms/step - loss: 20.5162 - accuracy: 0.9213 - val_loss: 20.5558 - val_accuracy: 0.7782\n",
      "Epoch 70/250\n",
      "18/18 [==============================] - 0s 22ms/step - loss: 20.1817 - accuracy: 0.9214 - val_loss: 20.2243 - val_accuracy: 0.7782\n",
      "Epoch 71/250\n",
      "18/18 [==============================] - 0s 22ms/step - loss: 19.8482 - accuracy: 0.9238 - val_loss: 19.8964 - val_accuracy: 0.7796\n",
      "Epoch 72/250\n",
      "18/18 [==============================] - 0s 22ms/step - loss: 19.5171 - accuracy: 0.9257 - val_loss: 19.5726 - val_accuracy: 0.7791\n",
      "Epoch 73/250\n",
      "18/18 [==============================] - 0s 24ms/step - loss: 19.1968 - accuracy: 0.9233 - val_loss: 19.2527 - val_accuracy: 0.7805\n",
      "Epoch 74/250\n",
      "18/18 [==============================] - 0s 23ms/step - loss: 18.8772 - accuracy: 0.9237 - val_loss: 18.9363 - val_accuracy: 0.7805\n",
      "Epoch 75/250\n",
      "18/18 [==============================] - 0s 23ms/step - loss: 18.5549 - accuracy: 0.9269 - val_loss: 18.6232 - val_accuracy: 0.7801\n",
      "Epoch 76/250\n",
      "18/18 [==============================] - 0s 22ms/step - loss: 18.2443 - accuracy: 0.9264 - val_loss: 18.3141 - val_accuracy: 0.7814\n",
      "Epoch 77/250\n",
      "18/18 [==============================] - 0s 23ms/step - loss: 17.9346 - accuracy: 0.9247 - val_loss: 18.0082 - val_accuracy: 0.7791\n",
      "Epoch 78/250\n",
      "18/18 [==============================] - 0s 22ms/step - loss: 17.6262 - accuracy: 0.9297 - val_loss: 17.7068 - val_accuracy: 0.7773\n",
      "Epoch 79/250\n",
      "18/18 [==============================] - 0s 23ms/step - loss: 17.3266 - accuracy: 0.9284 - val_loss: 17.4083 - val_accuracy: 0.7778\n",
      "Epoch 80/250\n",
      "18/18 [==============================] - 0s 22ms/step - loss: 17.0251 - accuracy: 0.9299 - val_loss: 17.1131 - val_accuracy: 0.7796\n",
      "Epoch 81/250\n",
      "18/18 [==============================] - 0s 25ms/step - loss: 16.7390 - accuracy: 0.9253 - val_loss: 16.8222 - val_accuracy: 0.7787\n",
      "Epoch 82/250\n",
      "18/18 [==============================] - 0s 23ms/step - loss: 16.4396 - accuracy: 0.9283 - val_loss: 16.5335 - val_accuracy: 0.7810\n",
      "Epoch 83/250\n",
      "18/18 [==============================] - 0s 23ms/step - loss: 16.1491 - accuracy: 0.9318 - val_loss: 16.2495 - val_accuracy: 0.7819\n",
      "Epoch 84/250\n",
      "18/18 [==============================] - 0s 23ms/step - loss: 15.8700 - accuracy: 0.9296 - val_loss: 15.9686 - val_accuracy: 0.7814\n",
      "Epoch 85/250\n",
      "18/18 [==============================] - 0s 22ms/step - loss: 15.5863 - accuracy: 0.9352 - val_loss: 15.6904 - val_accuracy: 0.7810\n",
      "Epoch 86/250\n",
      "18/18 [==============================] - 0s 23ms/step - loss: 15.3053 - accuracy: 0.9344 - val_loss: 15.4161 - val_accuracy: 0.7801\n",
      "Epoch 87/250\n",
      "18/18 [==============================] - 0s 23ms/step - loss: 15.0293 - accuracy: 0.9366 - val_loss: 15.1453 - val_accuracy: 0.7819\n",
      "Epoch 88/250\n",
      "18/18 [==============================] - 0s 22ms/step - loss: 14.7634 - accuracy: 0.9327 - val_loss: 14.8784 - val_accuracy: 0.7801\n",
      "Epoch 89/250\n",
      "18/18 [==============================] - 0s 22ms/step - loss: 14.4955 - accuracy: 0.9341 - val_loss: 14.6139 - val_accuracy: 0.7805\n",
      "Epoch 90/250\n",
      "18/18 [==============================] - 0s 25ms/step - loss: 14.2342 - accuracy: 0.9341 - val_loss: 14.3533 - val_accuracy: 0.7782\n",
      "Epoch 91/250\n",
      "18/18 [==============================] - 0s 25ms/step - loss: 13.9795 - accuracy: 0.9328 - val_loss: 14.0960 - val_accuracy: 0.7801\n",
      "Epoch 92/250\n",
      "18/18 [==============================] - 0s 23ms/step - loss: 13.7168 - accuracy: 0.9338 - val_loss: 13.8417 - val_accuracy: 0.7791\n",
      "Epoch 93/250\n",
      "18/18 [==============================] - 0s 24ms/step - loss: 13.4652 - accuracy: 0.9320 - val_loss: 13.5902 - val_accuracy: 0.7796\n",
      "Epoch 94/250\n",
      "18/18 [==============================] - 0s 23ms/step - loss: 13.2081 - accuracy: 0.9393 - val_loss: 13.3427 - val_accuracy: 0.7801\n",
      "Epoch 95/250\n",
      "18/18 [==============================] - 0s 23ms/step - loss: 12.9629 - accuracy: 0.9346 - val_loss: 13.0977 - val_accuracy: 0.7810\n",
      "Epoch 96/250\n",
      "18/18 [==============================] - 0s 23ms/step - loss: 12.7214 - accuracy: 0.9329 - val_loss: 12.8563 - val_accuracy: 0.7814\n",
      "Epoch 97/250\n",
      "18/18 [==============================] - 0s 23ms/step - loss: 12.4759 - accuracy: 0.9375 - val_loss: 12.6183 - val_accuracy: 0.7814\n",
      "Epoch 98/250\n",
      "18/18 [==============================] - 0s 22ms/step - loss: 12.2417 - accuracy: 0.9347 - val_loss: 12.3828 - val_accuracy: 0.7810\n",
      "Epoch 99/250\n",
      "18/18 [==============================] - 0s 22ms/step - loss: 12.0106 - accuracy: 0.9350 - val_loss: 12.1507 - val_accuracy: 0.7828\n",
      "Epoch 100/250\n",
      "18/18 [==============================] - 0s 25ms/step - loss: 11.7709 - accuracy: 0.9389 - val_loss: 11.9227 - val_accuracy: 0.7819\n",
      "Epoch 101/250\n",
      "18/18 [==============================] - 0s 23ms/step - loss: 11.5516 - accuracy: 0.9361 - val_loss: 11.6967 - val_accuracy: 0.7805\n",
      "Epoch 102/250\n",
      "18/18 [==============================] - 0s 22ms/step - loss: 11.3208 - accuracy: 0.9378 - val_loss: 11.4739 - val_accuracy: 0.7810\n",
      "Epoch 103/250\n",
      "18/18 [==============================] - 0s 23ms/step - loss: 11.1015 - accuracy: 0.9372 - val_loss: 11.2543 - val_accuracy: 0.7814\n",
      "Epoch 104/250\n",
      "18/18 [==============================] - 0s 23ms/step - loss: 10.8761 - accuracy: 0.9396 - val_loss: 11.0375 - val_accuracy: 0.7823\n",
      "Epoch 105/250\n",
      "18/18 [==============================] - 0s 23ms/step - loss: 10.6673 - accuracy: 0.9368 - val_loss: 10.8242 - val_accuracy: 0.7828\n",
      "Epoch 106/250\n",
      "18/18 [==============================] - 0s 23ms/step - loss: 10.4574 - accuracy: 0.9344 - val_loss: 10.6137 - val_accuracy: 0.7819\n",
      "Epoch 107/250\n",
      "18/18 [==============================] - 0s 22ms/step - loss: 10.2429 - accuracy: 0.9385 - val_loss: 10.4064 - val_accuracy: 0.7810\n",
      "Epoch 108/250\n",
      "18/18 [==============================] - 0s 22ms/step - loss: 10.0385 - accuracy: 0.9349 - val_loss: 10.2018 - val_accuracy: 0.7814\n",
      "Epoch 109/250\n",
      "18/18 [==============================] - 0s 22ms/step - loss: 9.8324 - accuracy: 0.9385 - val_loss: 9.9996 - val_accuracy: 0.7819\n",
      "Epoch 110/250\n",
      "18/18 [==============================] - 0s 25ms/step - loss: 9.6400 - accuracy: 0.9345 - val_loss: 9.8012 - val_accuracy: 0.7828\n",
      "Epoch 111/250\n",
      "18/18 [==============================] - 0s 23ms/step - loss: 9.4413 - accuracy: 0.9348 - val_loss: 9.6056 - val_accuracy: 0.7814\n",
      "Epoch 112/250\n",
      "18/18 [==============================] - 0s 22ms/step - loss: 9.2379 - accuracy: 0.9401 - val_loss: 9.4136 - val_accuracy: 0.7814\n",
      "Epoch 113/250\n"
     ]
    },
    {
     "name": "stdout",
     "output_type": "stream",
     "text": [
      "18/18 [==============================] - 0s 23ms/step - loss: 9.0451 - accuracy: 0.9416 - val_loss: 9.2232 - val_accuracy: 0.7823\n",
      "Epoch 114/250\n",
      "18/18 [==============================] - 0s 24ms/step - loss: 8.8622 - accuracy: 0.9389 - val_loss: 9.0357 - val_accuracy: 0.7819\n",
      "Epoch 115/250\n",
      "18/18 [==============================] - 0s 24ms/step - loss: 8.6694 - accuracy: 0.9410 - val_loss: 8.8516 - val_accuracy: 0.7819\n",
      "Epoch 116/250\n",
      "18/18 [==============================] - 0s 22ms/step - loss: 8.4956 - accuracy: 0.9367 - val_loss: 8.6706 - val_accuracy: 0.7814\n",
      "Epoch 117/250\n",
      "18/18 [==============================] - 0s 22ms/step - loss: 8.3154 - accuracy: 0.9385 - val_loss: 8.4916 - val_accuracy: 0.7810\n",
      "Epoch 118/250\n",
      "18/18 [==============================] - 0s 22ms/step - loss: 8.1414 - accuracy: 0.9344 - val_loss: 8.3161 - val_accuracy: 0.7814\n",
      "Epoch 119/250\n",
      "18/18 [==============================] - 0s 22ms/step - loss: 7.9624 - accuracy: 0.9329 - val_loss: 8.1434 - val_accuracy: 0.7828\n",
      "Epoch 120/250\n",
      "18/18 [==============================] - 0s 25ms/step - loss: 7.7943 - accuracy: 0.9322 - val_loss: 7.9732 - val_accuracy: 0.7814\n",
      "Epoch 121/250\n",
      "18/18 [==============================] - 0s 22ms/step - loss: 7.6255 - accuracy: 0.9337 - val_loss: 7.8061 - val_accuracy: 0.7819\n",
      "Epoch 122/250\n",
      "18/18 [==============================] - 0s 22ms/step - loss: 7.4530 - accuracy: 0.9386 - val_loss: 7.6415 - val_accuracy: 0.7810\n",
      "Epoch 123/250\n",
      "18/18 [==============================] - 0s 23ms/step - loss: 7.2873 - accuracy: 0.9371 - val_loss: 7.4794 - val_accuracy: 0.7819\n",
      "Epoch 124/250\n",
      "18/18 [==============================] - 0s 22ms/step - loss: 7.1273 - accuracy: 0.9372 - val_loss: 7.3202 - val_accuracy: 0.7814\n",
      "Epoch 125/250\n",
      "18/18 [==============================] - 0s 22ms/step - loss: 6.9761 - accuracy: 0.9366 - val_loss: 7.1635 - val_accuracy: 0.7805\n",
      "Epoch 126/250\n",
      "18/18 [==============================] - 0s 22ms/step - loss: 6.8213 - accuracy: 0.9360 - val_loss: 7.0097 - val_accuracy: 0.7819\n",
      "Epoch 127/250\n",
      "18/18 [==============================] - 0s 23ms/step - loss: 6.6684 - accuracy: 0.9382 - val_loss: 6.8594 - val_accuracy: 0.7805\n",
      "Epoch 128/250\n",
      "18/18 [==============================] - 0s 23ms/step - loss: 6.5211 - accuracy: 0.9339 - val_loss: 6.7113 - val_accuracy: 0.7810\n",
      "Epoch 129/250\n",
      "18/18 [==============================] - 0s 22ms/step - loss: 6.3789 - accuracy: 0.9329 - val_loss: 6.5658 - val_accuracy: 0.7796\n",
      "Epoch 130/250\n",
      "18/18 [==============================] - 0s 23ms/step - loss: 6.2317 - accuracy: 0.9344 - val_loss: 6.4225 - val_accuracy: 0.7805\n",
      "Epoch 131/250\n",
      "18/18 [==============================] - 0s 23ms/step - loss: 6.0958 - accuracy: 0.9298 - val_loss: 6.2818 - val_accuracy: 0.7791\n",
      "Epoch 132/250\n",
      "18/18 [==============================] - 0s 22ms/step - loss: 5.9479 - accuracy: 0.9331 - val_loss: 6.1438 - val_accuracy: 0.7805\n",
      "Epoch 133/250\n",
      "18/18 [==============================] - 0s 22ms/step - loss: 5.8108 - accuracy: 0.9357 - val_loss: 6.0095 - val_accuracy: 0.7791\n",
      "Epoch 134/250\n",
      "18/18 [==============================] - 0s 22ms/step - loss: 5.6845 - accuracy: 0.9310 - val_loss: 5.8766 - val_accuracy: 0.7787\n",
      "Epoch 135/250\n",
      "18/18 [==============================] - 0s 22ms/step - loss: 5.5464 - accuracy: 0.9351 - val_loss: 5.7465 - val_accuracy: 0.7796\n",
      "Epoch 136/250\n",
      "18/18 [==============================] - 0s 23ms/step - loss: 5.4215 - accuracy: 0.9330 - val_loss: 5.6189 - val_accuracy: 0.7801\n",
      "Epoch 137/250\n",
      "18/18 [==============================] - 0s 22ms/step - loss: 5.2983 - accuracy: 0.9346 - val_loss: 5.4952 - val_accuracy: 0.7796\n",
      "Epoch 138/250\n",
      "18/18 [==============================] - 0s 22ms/step - loss: 5.1803 - accuracy: 0.9283 - val_loss: 5.3725 - val_accuracy: 0.7801\n",
      "Epoch 139/250\n",
      "18/18 [==============================] - 0s 22ms/step - loss: 5.0557 - accuracy: 0.9328 - val_loss: 5.2525 - val_accuracy: 0.7801\n",
      "Epoch 140/250\n",
      "18/18 [==============================] - 0s 24ms/step - loss: 4.9449 - accuracy: 0.9289 - val_loss: 5.1350 - val_accuracy: 0.7801\n",
      "Epoch 141/250\n",
      "18/18 [==============================] - 0s 24ms/step - loss: 4.8291 - accuracy: 0.9272 - val_loss: 5.0203 - val_accuracy: 0.7814\n",
      "Epoch 142/250\n",
      "18/18 [==============================] - 0s 23ms/step - loss: 4.7183 - accuracy: 0.9235 - val_loss: 4.9080 - val_accuracy: 0.7819\n",
      "Epoch 143/250\n",
      "18/18 [==============================] - 0s 23ms/step - loss: 4.6038 - accuracy: 0.9303 - val_loss: 4.7979 - val_accuracy: 0.7810\n",
      "Epoch 144/250\n",
      "18/18 [==============================] - 0s 24ms/step - loss: 4.4978 - accuracy: 0.9229 - val_loss: 4.6907 - val_accuracy: 0.7810\n",
      "Epoch 145/250\n",
      "18/18 [==============================] - 0s 23ms/step - loss: 4.3917 - accuracy: 0.9275 - val_loss: 4.5863 - val_accuracy: 0.7846\n",
      "Epoch 146/250\n",
      "18/18 [==============================] - 0s 24ms/step - loss: 4.2935 - accuracy: 0.9240 - val_loss: 4.4837 - val_accuracy: 0.7823\n",
      "Epoch 147/250\n",
      "18/18 [==============================] - 0s 24ms/step - loss: 4.1954 - accuracy: 0.9243 - val_loss: 4.3831 - val_accuracy: 0.7832\n",
      "Epoch 148/250\n",
      "18/18 [==============================] - 0s 22ms/step - loss: 4.0954 - accuracy: 0.9218 - val_loss: 4.2859 - val_accuracy: 0.7805\n",
      "Epoch 149/250\n",
      "18/18 [==============================] - 0s 22ms/step - loss: 3.9952 - accuracy: 0.9255 - val_loss: 4.1912 - val_accuracy: 0.7819\n",
      "Epoch 150/250\n",
      "18/18 [==============================] - 0s 23ms/step - loss: 3.9078 - accuracy: 0.9258 - val_loss: 4.0973 - val_accuracy: 0.7832\n",
      "Epoch 151/250\n",
      "18/18 [==============================] - 0s 22ms/step - loss: 3.8224 - accuracy: 0.9195 - val_loss: 4.0071 - val_accuracy: 0.7810\n",
      "Epoch 152/250\n",
      "18/18 [==============================] - 0s 25ms/step - loss: 3.7338 - accuracy: 0.9172 - val_loss: 3.9185 - val_accuracy: 0.7819\n",
      "Epoch 153/250\n",
      "18/18 [==============================] - 0s 23ms/step - loss: 3.6468 - accuracy: 0.9211 - val_loss: 3.8334 - val_accuracy: 0.7823\n",
      "Epoch 154/250\n",
      "18/18 [==============================] - 0s 22ms/step - loss: 3.5653 - accuracy: 0.9182 - val_loss: 3.7498 - val_accuracy: 0.7814\n",
      "Epoch 155/250\n",
      "18/18 [==============================] - 0s 23ms/step - loss: 3.4895 - accuracy: 0.9113 - val_loss: 3.6685 - val_accuracy: 0.7805\n",
      "Epoch 156/250\n",
      "18/18 [==============================] - 0s 24ms/step - loss: 3.4085 - accuracy: 0.9166 - val_loss: 3.5880 - val_accuracy: 0.7828\n",
      "Epoch 157/250\n",
      "18/18 [==============================] - 0s 22ms/step - loss: 3.3291 - accuracy: 0.9175 - val_loss: 3.5120 - val_accuracy: 0.7819\n",
      "Epoch 158/250\n",
      "18/18 [==============================] - 0s 22ms/step - loss: 3.2556 - accuracy: 0.9159 - val_loss: 3.4386 - val_accuracy: 0.7810\n",
      "Epoch 159/250\n",
      "18/18 [==============================] - 0s 24ms/step - loss: 3.1841 - accuracy: 0.9130 - val_loss: 3.3664 - val_accuracy: 0.7828\n",
      "Epoch 160/250\n",
      "18/18 [==============================] - 0s 23ms/step - loss: 3.1147 - accuracy: 0.9126 - val_loss: 3.2961 - val_accuracy: 0.7823\n",
      "Epoch 161/250\n",
      "18/18 [==============================] - 0s 22ms/step - loss: 3.0497 - accuracy: 0.9127 - val_loss: 3.2272 - val_accuracy: 0.7819\n",
      "Epoch 162/250\n",
      "18/18 [==============================] - 0s 22ms/step - loss: 2.9893 - accuracy: 0.9082 - val_loss: 3.1627 - val_accuracy: 0.7796\n",
      "Epoch 163/250\n",
      "18/18 [==============================] - 0s 22ms/step - loss: 2.9269 - accuracy: 0.9053 - val_loss: 3.0997 - val_accuracy: 0.7810\n",
      "Epoch 164/250\n",
      "18/18 [==============================] - 0s 23ms/step - loss: 2.8668 - accuracy: 0.9073 - val_loss: 3.0379 - val_accuracy: 0.7819\n",
      "Epoch 165/250\n",
      "18/18 [==============================] - 0s 23ms/step - loss: 2.8031 - accuracy: 0.9089 - val_loss: 2.9803 - val_accuracy: 0.7791\n",
      "Epoch 166/250\n",
      "18/18 [==============================] - 0s 23ms/step - loss: 2.7555 - accuracy: 0.9028 - val_loss: 2.9218 - val_accuracy: 0.7814\n",
      "Epoch 167/250\n",
      "18/18 [==============================] - 0s 24ms/step - loss: 2.7021 - accuracy: 0.9034 - val_loss: 2.8675 - val_accuracy: 0.7801\n",
      "Epoch 168/250\n",
      "18/18 [==============================] - 0s 23ms/step - loss: 2.6435 - accuracy: 0.9044 - val_loss: 2.8139 - val_accuracy: 0.7819\n",
      "Epoch 169/250\n",
      "18/18 [==============================] - 0s 24ms/step - loss: 2.5946 - accuracy: 0.9035 - val_loss: 2.7628 - val_accuracy: 0.7842\n"
     ]
    },
    {
     "name": "stdout",
     "output_type": "stream",
     "text": [
      "Epoch 170/250\n",
      "18/18 [==============================] - 0s 22ms/step - loss: 2.5481 - accuracy: 0.9015 - val_loss: 2.7128 - val_accuracy: 0.7819\n",
      "Epoch 171/250\n",
      "18/18 [==============================] - 0s 23ms/step - loss: 2.4986 - accuracy: 0.9009 - val_loss: 2.6644 - val_accuracy: 0.7801\n",
      "Epoch 172/250\n",
      "18/18 [==============================] - 0s 23ms/step - loss: 2.4592 - accuracy: 0.8950 - val_loss: 2.6207 - val_accuracy: 0.7842\n",
      "Epoch 173/250\n",
      "18/18 [==============================] - 0s 22ms/step - loss: 2.4112 - accuracy: 0.8988 - val_loss: 2.5769 - val_accuracy: 0.7851\n",
      "Epoch 174/250\n",
      "18/18 [==============================] - 0s 23ms/step - loss: 2.3706 - accuracy: 0.8990 - val_loss: 2.5356 - val_accuracy: 0.7842\n",
      "Epoch 175/250\n",
      "18/18 [==============================] - 0s 22ms/step - loss: 2.3358 - accuracy: 0.8947 - val_loss: 2.4945 - val_accuracy: 0.7846\n",
      "Epoch 176/250\n",
      "18/18 [==============================] - 0s 23ms/step - loss: 2.3007 - accuracy: 0.8891 - val_loss: 2.4574 - val_accuracy: 0.7860\n",
      "Epoch 177/250\n",
      "18/18 [==============================] - 0s 23ms/step - loss: 2.2633 - accuracy: 0.8927 - val_loss: 2.4219 - val_accuracy: 0.7837\n",
      "Epoch 178/250\n",
      "18/18 [==============================] - 0s 23ms/step - loss: 2.2259 - accuracy: 0.8935 - val_loss: 2.3890 - val_accuracy: 0.7846\n",
      "Epoch 179/250\n",
      "18/18 [==============================] - 0s 22ms/step - loss: 2.1999 - accuracy: 0.8877 - val_loss: 2.3518 - val_accuracy: 0.7864\n",
      "Epoch 180/250\n",
      "18/18 [==============================] - 0s 22ms/step - loss: 2.1609 - accuracy: 0.8924 - val_loss: 2.3226 - val_accuracy: 0.7842\n",
      "Epoch 181/250\n",
      "18/18 [==============================] - 0s 26ms/step - loss: 2.1410 - accuracy: 0.8808 - val_loss: 2.2923 - val_accuracy: 0.7855\n",
      "Epoch 182/250\n",
      "18/18 [==============================] - 0s 23ms/step - loss: 2.1086 - accuracy: 0.8886 - val_loss: 2.2636 - val_accuracy: 0.7860\n",
      "Epoch 183/250\n",
      "18/18 [==============================] - 0s 22ms/step - loss: 2.0777 - accuracy: 0.8867 - val_loss: 2.2397 - val_accuracy: 0.7855\n",
      "Epoch 184/250\n",
      "18/18 [==============================] - 0s 24ms/step - loss: 2.0569 - accuracy: 0.8857 - val_loss: 2.2138 - val_accuracy: 0.7851\n",
      "Epoch 185/250\n",
      "18/18 [==============================] - 0s 22ms/step - loss: 2.0326 - accuracy: 0.8857 - val_loss: 2.1894 - val_accuracy: 0.7873\n",
      "Epoch 186/250\n",
      "18/18 [==============================] - 0s 22ms/step - loss: 2.0004 - accuracy: 0.8906 - val_loss: 2.1696 - val_accuracy: 0.7828\n",
      "Epoch 187/250\n",
      "18/18 [==============================] - 0s 24ms/step - loss: 1.9952 - accuracy: 0.8765 - val_loss: 2.1459 - val_accuracy: 0.7837\n",
      "Epoch 188/250\n",
      "18/18 [==============================] - 0s 22ms/step - loss: 1.9737 - accuracy: 0.8827 - val_loss: 2.1267 - val_accuracy: 0.7851\n",
      "Epoch 189/250\n",
      "18/18 [==============================] - 0s 22ms/step - loss: 1.9487 - accuracy: 0.8826 - val_loss: 2.1065 - val_accuracy: 0.7855\n",
      "Epoch 190/250\n",
      "18/18 [==============================] - 0s 21ms/step - loss: 1.9278 - accuracy: 0.8823 - val_loss: 2.0917 - val_accuracy: 0.7855\n",
      "Epoch 191/250\n",
      "18/18 [==============================] - 0s 22ms/step - loss: 1.9174 - accuracy: 0.8839 - val_loss: 2.0733 - val_accuracy: 0.7837\n",
      "Epoch 192/250\n",
      "18/18 [==============================] - 0s 23ms/step - loss: 1.8961 - accuracy: 0.8812 - val_loss: 2.0551 - val_accuracy: 0.7869\n",
      "Epoch 193/250\n",
      "18/18 [==============================] - 0s 24ms/step - loss: 1.8738 - accuracy: 0.8854 - val_loss: 2.0419 - val_accuracy: 0.7883\n",
      "Epoch 194/250\n",
      "18/18 [==============================] - 0s 23ms/step - loss: 1.8701 - accuracy: 0.8801 - val_loss: 2.0289 - val_accuracy: 0.7842\n",
      "Epoch 195/250\n",
      "18/18 [==============================] - 0s 22ms/step - loss: 1.8596 - accuracy: 0.8791 - val_loss: 2.0136 - val_accuracy: 0.7842\n",
      "Epoch 196/250\n",
      "18/18 [==============================] - 0s 22ms/step - loss: 1.8403 - accuracy: 0.8839 - val_loss: 2.0022 - val_accuracy: 0.7860\n",
      "Epoch 197/250\n",
      "18/18 [==============================] - 0s 22ms/step - loss: 1.8234 - accuracy: 0.8829 - val_loss: 1.9889 - val_accuracy: 0.7855\n",
      "Epoch 198/250\n",
      "18/18 [==============================] - 0s 23ms/step - loss: 1.8180 - accuracy: 0.8805 - val_loss: 1.9780 - val_accuracy: 0.7905\n",
      "Epoch 199/250\n",
      "18/18 [==============================] - 0s 23ms/step - loss: 1.7937 - accuracy: 0.8892 - val_loss: 1.9680 - val_accuracy: 0.7864\n",
      "Epoch 200/250\n",
      "18/18 [==============================] - 0s 22ms/step - loss: 1.7882 - accuracy: 0.8814 - val_loss: 1.9560 - val_accuracy: 0.7892\n",
      "Epoch 201/250\n",
      "18/18 [==============================] - 0s 22ms/step - loss: 1.7823 - accuracy: 0.8813 - val_loss: 1.9438 - val_accuracy: 0.7869\n",
      "Epoch 202/250\n",
      "18/18 [==============================] - 0s 22ms/step - loss: 1.7685 - accuracy: 0.8813 - val_loss: 1.9330 - val_accuracy: 0.7864\n",
      "Epoch 203/250\n",
      "18/18 [==============================] - 0s 22ms/step - loss: 1.7547 - accuracy: 0.8855 - val_loss: 1.9251 - val_accuracy: 0.7819\n",
      "Epoch 204/250\n",
      "18/18 [==============================] - 0s 25ms/step - loss: 1.7463 - accuracy: 0.8844 - val_loss: 1.9134 - val_accuracy: 0.7883\n",
      "Epoch 205/250\n",
      "18/18 [==============================] - 0s 22ms/step - loss: 1.7270 - accuracy: 0.8891 - val_loss: 1.9056 - val_accuracy: 0.7878\n",
      "Epoch 206/250\n",
      "18/18 [==============================] - 0s 22ms/step - loss: 1.7259 - accuracy: 0.8816 - val_loss: 1.8953 - val_accuracy: 0.7851\n",
      "Epoch 207/250\n",
      "18/18 [==============================] - 0s 22ms/step - loss: 1.7079 - accuracy: 0.8887 - val_loss: 1.8837 - val_accuracy: 0.7896\n",
      "Epoch 208/250\n",
      "18/18 [==============================] - 0s 24ms/step - loss: 1.7000 - accuracy: 0.8909 - val_loss: 1.8781 - val_accuracy: 0.7878\n",
      "Epoch 209/250\n",
      "18/18 [==============================] - 0s 22ms/step - loss: 1.6897 - accuracy: 0.8890 - val_loss: 1.8659 - val_accuracy: 0.7869\n",
      "Epoch 210/250\n",
      "18/18 [==============================] - 0s 22ms/step - loss: 1.6798 - accuracy: 0.8882 - val_loss: 1.8561 - val_accuracy: 0.7851\n",
      "Epoch 211/250\n",
      "18/18 [==============================] - 0s 22ms/step - loss: 1.6741 - accuracy: 0.8858 - val_loss: 1.8493 - val_accuracy: 0.7851\n",
      "Epoch 212/250\n",
      "18/18 [==============================] - 0s 24ms/step - loss: 1.6646 - accuracy: 0.8849 - val_loss: 1.8414 - val_accuracy: 0.7837\n",
      "Epoch 213/250\n",
      "18/18 [==============================] - 0s 22ms/step - loss: 1.6543 - accuracy: 0.8847 - val_loss: 1.8304 - val_accuracy: 0.7860\n",
      "Epoch 214/250\n",
      "18/18 [==============================] - 0s 22ms/step - loss: 1.6412 - accuracy: 0.8913 - val_loss: 1.8257 - val_accuracy: 0.7832\n",
      "Epoch 215/250\n",
      "18/18 [==============================] - 0s 22ms/step - loss: 1.6355 - accuracy: 0.8867 - val_loss: 1.8155 - val_accuracy: 0.7823\n",
      "Epoch 216/250\n",
      "18/18 [==============================] - 0s 22ms/step - loss: 1.6312 - accuracy: 0.8825 - val_loss: 1.8063 - val_accuracy: 0.7828\n",
      "Epoch 217/250\n",
      "18/18 [==============================] - 0s 23ms/step - loss: 1.6211 - accuracy: 0.8876 - val_loss: 1.7966 - val_accuracy: 0.7832\n",
      "Epoch 218/250\n",
      "18/18 [==============================] - 0s 22ms/step - loss: 1.6060 - accuracy: 0.8893 - val_loss: 1.7938 - val_accuracy: 0.7842\n",
      "Epoch 219/250\n",
      "18/18 [==============================] - 0s 23ms/step - loss: 1.6033 - accuracy: 0.8864 - val_loss: 1.7824 - val_accuracy: 0.7919\n",
      "Epoch 220/250\n",
      "18/18 [==============================] - 0s 22ms/step - loss: 1.5906 - accuracy: 0.8907 - val_loss: 1.7802 - val_accuracy: 0.7842\n",
      "Epoch 221/250\n",
      "18/18 [==============================] - 0s 22ms/step - loss: 1.5833 - accuracy: 0.8897 - val_loss: 1.7691 - val_accuracy: 0.7801\n",
      "Epoch 222/250\n",
      "18/18 [==============================] - 0s 22ms/step - loss: 1.5775 - accuracy: 0.8864 - val_loss: 1.7639 - val_accuracy: 0.7837\n",
      "Epoch 223/250\n",
      "18/18 [==============================] - 0s 25ms/step - loss: 1.5633 - accuracy: 0.8925 - val_loss: 1.7571 - val_accuracy: 0.7828\n",
      "Epoch 224/250\n",
      "18/18 [==============================] - 0s 23ms/step - loss: 1.5586 - accuracy: 0.8871 - val_loss: 1.7454 - val_accuracy: 0.7864\n",
      "Epoch 225/250\n",
      "18/18 [==============================] - 0s 22ms/step - loss: 1.5356 - accuracy: 0.8981 - val_loss: 1.7390 - val_accuracy: 0.7846\n",
      "Epoch 226/250\n",
      "18/18 [==============================] - 0s 23ms/step - loss: 1.5415 - accuracy: 0.8898 - val_loss: 1.7330 - val_accuracy: 0.7837\n"
     ]
    },
    {
     "name": "stdout",
     "output_type": "stream",
     "text": [
      "Epoch 227/250\n",
      "18/18 [==============================] - 0s 23ms/step - loss: 1.5287 - accuracy: 0.8952 - val_loss: 1.7274 - val_accuracy: 0.7851\n",
      "Epoch 228/250\n",
      "18/18 [==============================] - 0s 22ms/step - loss: 1.5226 - accuracy: 0.8941 - val_loss: 1.7197 - val_accuracy: 0.7855\n",
      "Epoch 229/250\n",
      "18/18 [==============================] - 0s 23ms/step - loss: 1.5022 - accuracy: 0.9013 - val_loss: 1.7128 - val_accuracy: 0.7832\n",
      "Epoch 230/250\n",
      "18/18 [==============================] - 0s 22ms/step - loss: 1.4987 - accuracy: 0.9017 - val_loss: 1.7064 - val_accuracy: 0.7855\n",
      "Epoch 231/250\n",
      "18/18 [==============================] - 0s 22ms/step - loss: 1.4946 - accuracy: 0.8991 - val_loss: 1.6990 - val_accuracy: 0.7842\n",
      "Epoch 232/250\n",
      "18/18 [==============================] - 0s 22ms/step - loss: 1.4887 - accuracy: 0.8974 - val_loss: 1.6947 - val_accuracy: 0.7805\n",
      "Epoch 233/250\n",
      "18/18 [==============================] - 0s 24ms/step - loss: 1.4799 - accuracy: 0.8969 - val_loss: 1.6835 - val_accuracy: 0.7832\n",
      "Epoch 234/250\n",
      "18/18 [==============================] - 0s 24ms/step - loss: 1.4672 - accuracy: 0.8981 - val_loss: 1.6797 - val_accuracy: 0.7837\n",
      "Epoch 235/250\n",
      "18/18 [==============================] - 0s 22ms/step - loss: 1.4576 - accuracy: 0.9013 - val_loss: 1.6726 - val_accuracy: 0.7864\n",
      "Epoch 236/250\n",
      "18/18 [==============================] - 0s 22ms/step - loss: 1.4470 - accuracy: 0.9054 - val_loss: 1.6641 - val_accuracy: 0.7851\n",
      "Epoch 237/250\n",
      "18/18 [==============================] - 0s 22ms/step - loss: 1.4462 - accuracy: 0.9008 - val_loss: 1.6602 - val_accuracy: 0.7801\n",
      "Epoch 238/250\n",
      "18/18 [==============================] - 0s 22ms/step - loss: 1.4370 - accuracy: 0.9041 - val_loss: 1.6513 - val_accuracy: 0.7823\n",
      "Epoch 239/250\n",
      "18/18 [==============================] - 0s 22ms/step - loss: 1.4285 - accuracy: 0.9050 - val_loss: 1.6469 - val_accuracy: 0.7851\n",
      "Epoch 240/250\n",
      "18/18 [==============================] - 0s 22ms/step - loss: 1.4297 - accuracy: 0.8983 - val_loss: 1.6381 - val_accuracy: 0.7814\n",
      "Epoch 241/250\n",
      "18/18 [==============================] - 0s 24ms/step - loss: 1.4170 - accuracy: 0.9011 - val_loss: 1.6349 - val_accuracy: 0.7855\n",
      "Epoch 242/250\n",
      "18/18 [==============================] - 0s 24ms/step - loss: 1.3954 - accuracy: 0.9094 - val_loss: 1.6280 - val_accuracy: 0.7842\n",
      "Epoch 243/250\n",
      "18/18 [==============================] - 0s 22ms/step - loss: 1.3991 - accuracy: 0.9048 - val_loss: 1.6204 - val_accuracy: 0.7805\n",
      "Epoch 244/250\n",
      "18/18 [==============================] - 0s 23ms/step - loss: 1.3925 - accuracy: 0.9042 - val_loss: 1.6168 - val_accuracy: 0.7846\n",
      "Epoch 245/250\n",
      "18/18 [==============================] - 0s 22ms/step - loss: 1.3828 - accuracy: 0.9079 - val_loss: 1.6106 - val_accuracy: 0.7819\n",
      "Epoch 246/250\n",
      "18/18 [==============================] - 0s 22ms/step - loss: 1.3751 - accuracy: 0.9059 - val_loss: 1.6060 - val_accuracy: 0.7846\n",
      "Epoch 247/250\n",
      "18/18 [==============================] - 0s 22ms/step - loss: 1.3695 - accuracy: 0.9075 - val_loss: 1.5992 - val_accuracy: 0.7796\n",
      "Epoch 248/250\n",
      "18/18 [==============================] - 0s 25ms/step - loss: 1.3582 - accuracy: 0.9076 - val_loss: 1.5931 - val_accuracy: 0.7846\n",
      "Epoch 249/250\n",
      "18/18 [==============================] - 0s 23ms/step - loss: 1.3490 - accuracy: 0.9147 - val_loss: 1.5894 - val_accuracy: 0.7846\n",
      "Epoch 250/250\n",
      "18/18 [==============================] - 0s 22ms/step - loss: 1.3472 - accuracy: 0.9112 - val_loss: 1.5817 - val_accuracy: 0.7851\n"
     ]
    }
   ],
   "source": [
    "history=model.fit(xtrain, ytrain, batch_size=500, epochs=250, verbose=True, validation_split=0.2)"
   ]
  },
  {
   "cell_type": "code",
   "execution_count": 35,
   "metadata": {},
   "outputs": [
    {
     "data": {
      "image/png": "[encoded data removed]",
      "text/plain": [
       "<Figure size 720x576 with 1 Axes>"
      ]
     },
     "metadata": {},
     "output_type": "display_data"
    }
   ],
   "source": [
    "hist=history.history\n",
    "f,ax=plt.subplots(figsize=(10,8))\n",
    "ax.plot(hist['loss'], label='train')\n",
    "ax.plot(hist['val_loss'], label='validation')\n",
    "ax.legend();"
   ]
  },
  {
   "cell_type": "code",
   "execution_count": 36,
   "metadata": {
    "scrolled": false
   },
   "outputs": [
    {
     "name": "stdout",
     "output_type": "stream",
     "text": [
      "The accuracy on test data: 0.780\n"
     ]
    }
   ],
   "source": [
    "loss, acc = model.evaluate(xtest, ytest, verbose=False)\n",
    "print(f'The accuracy on test data: {acc:.3f}')"
   ]
  },
  {
   "cell_type": "code",
   "execution_count": 37,
   "metadata": {},
   "outputs": [],
   "source": [
    "y_pred_ANN=model.predict(xtest).argmax(axis=1)"
   ]
  },
  {
   "cell_type": "code",
   "execution_count": 38,
   "metadata": {},
   "outputs": [
    {
     "name": "stdout",
     "output_type": "stream",
     "text": [
      "[[2079  185   63]\n",
      " [ 292  418   62]\n",
      " [ 117   88  356]]\n"
     ]
    },
    {
     "data": {
      "image/png": "[encoded data removed]",
      "text/plain": [
       "<Figure size 432x288 with 1 Axes>"
      ]
     },
     "metadata": {},
     "output_type": "display_data"
    }
   ],
   "source": [
    "cm=confusion_matrix(y_test.replace({'negative':0, 'neutral':1, 'positive':2}), y_pred_ANN)\n",
    "print(cm)\n",
    "sns.heatmap(cm, annot=True, fmt='d', cbar=False, \n",
    "            xticklabels=['Negative', 'Nuteral', 'Positive'], yticklabels=['Negative', 'Nuteral', 'Positive'])\n",
    "plt.gca().set_xlabel('Predicted')\n",
    "plt.gca().set_ylabel('True');"
   ]
  },
  {
   "cell_type": "code",
   "execution_count": 39,
   "metadata": {},
   "outputs": [
    {
     "name": "stdout",
     "output_type": "stream",
     "text": [
      "============== Classification report for ML model based on TfIdfVectorization ==============\n",
      "              precision    recall  f1-score   support\n",
      "\n",
      "           0       0.84      0.89      0.86      2327\n",
      "           1       0.60      0.54      0.57       772\n",
      "           2       0.74      0.63      0.68       561\n",
      "\n",
      "    accuracy                           0.78      3660\n",
      "   macro avg       0.73      0.69      0.71      3660\n",
      "weighted avg       0.77      0.78      0.77      3660\n",
      "\n"
     ]
    }
   ],
   "source": [
    "print(' '.rjust(15,'=')+'Classification report for ML model based on TfIdfVectorization'+' '.ljust(15,'='))\n",
    "print(classification_report(y_test.replace({'negative':0, 'neutral':1, 'positive':2}), y_pred_ANN))"
   ]
  },
  {
   "cell_type": "markdown",
   "metadata": {},
   "source": [
    "### Comments:\n",
    "\n",
    "The ANN also seems overfitted even after adding regularization. The accuracy on the test data is slightly better than the Random Forest classifier. We need to tune the hyper-pramaters of both models to improve their performance though."
   ]
  },
  {
   "cell_type": "code",
   "execution_count": 40,
   "metadata": {},
   "outputs": [
    {
     "data": {
      "text/plain": [
       "array([0.00162794, 0.00132677, 0.00021483, ..., 0.00033856, 0.00017346,\n",
       "       0.0001386 ])"
      ]
     },
     "execution_count": 40,
     "metadata": {},
     "output_type": "execute_result"
    }
   ],
   "source": [
    "clf.feature_importances_"
   ]
  },
  {
   "cell_type": "code",
   "execution_count": null,
   "metadata": {},
   "outputs": [],
   "source": []
  }
 ],
 "metadata": {
  "kernelspec": {
   "display_name": "Python 3",
   "language": "python",
   "name": "python3"
  },
  "language_info": {
   "codemirror_mode": {
    "name": "ipython",
    "version": 3
   },
   "file_extension": ".py",
   "mimetype": "text/x-python",
   "name": "python",
   "nbconvert_exporter": "python",
   "pygments_lexer": "ipython3",
   "version": "3.8.6"
  }
 },
 "nbformat": 4,
 "nbformat_minor": 4
}
